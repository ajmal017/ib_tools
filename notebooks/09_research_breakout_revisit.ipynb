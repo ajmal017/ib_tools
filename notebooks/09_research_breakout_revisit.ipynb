{
 "cells": [
  {
   "cell_type": "code",
   "execution_count": 1,
   "metadata": {},
   "outputs": [],
   "source": [
    "import warnings\n",
    "warnings.filterwarnings('ignore')\n",
    "import pandas as pd\n",
    "import numpy as np\n",
    "from grouper import group_by_volume, group_by_time\n",
    "from pyfolio.timeseries import perf_stats\n",
    "from functools import partial\n",
    "from utils import chart_price, plot, v_backtester, c_backtester, perf, perf_var\n",
    "import sys\n",
    "sys.path.append('/home/tomek/ib_tools')\n",
    "from indicators import get_ATR, get_signals\n",
    "import matplotlib.pyplot as plt\n",
    "from typing import NamedTuple\n",
    "from collections import namedtuple\n",
    "from datastore import Store\n",
    "%matplotlib inline"
   ]
  },
  {
   "cell_type": "code",
   "execution_count": 2,
   "metadata": {},
   "outputs": [
    {
     "data": {
      "text/plain": [
       "['/cont/min/CL_20191120_NYMEX_USD',\n",
       " '/cont/min/CL_20200320_NYMEX_USD',\n",
       " '/cont/min/ES_20191220_GLOBEX_USD',\n",
       " '/cont/min/ES_20200320_GLOBEX_USD',\n",
       " '/cont/min/GC_20191227_NYMEX_USD',\n",
       " '/cont/min/GC_20200428_NYMEX_USD',\n",
       " '/cont/min/GE_20191216_GLOBEX_USD',\n",
       " '/cont/min/NKD_20191212_GLOBEX_USD',\n",
       " '/cont/min/NQ_20191220_GLOBEX_USD',\n",
       " '/cont/min/NQ_20200320_GLOBEX_USD',\n",
       " '/cont/min/YM_20191220_ECBOT_USD',\n",
       " '/cont/min/ZB_20191219_ECBOT_USD',\n",
       " '/cont/min/ZF_20191231_ECBOT_USD',\n",
       " '/cont/min/ZN_20191219_ECBOT_USD']"
      ]
     },
     "execution_count": 2,
     "metadata": {},
     "output_type": "execute_result"
    }
   ],
   "source": [
    "store = Store()\n",
    "store.keys()"
   ]
  },
  {
   "cell_type": "code",
   "execution_count": 3,
   "metadata": {},
   "outputs": [],
   "source": [
    "multiplier = 20\n",
    "#periods = 20\n",
    "periods = [5, 10, 20, 40, 80, 160] \n",
    "ema_fast = 5\n",
    "ema_slow = 120 # number of periods for moving average filter\n",
    "#sl_atr = 1 # stop loss in ATRs\n",
    "atr_periods = 180 # number of periods to calculate ATR on\n",
    "time_int = 23 # interval in minutes to be used to define volume candle\n",
    "commission = 2.1 # level of commision per transaction in dollars\n",
    "bankroll = 15000"
   ]
  },
  {
   "cell_type": "code",
   "execution_count": 4,
   "metadata": {},
   "outputs": [],
   "source": [
    "contract = store.read('/cont/min/GC_20191227_NYMEX_USD').sort_index()\n",
    "#contract = pd.read_pickle('data/minute_GC_cont_non_active_included.pickle')\n",
    "contract = contract.loc['20180101': '20181231']"
   ]
  },
  {
   "cell_type": "code",
   "execution_count": 5,
   "metadata": {},
   "outputs": [
    {
     "data": {
      "text/plain": [
       "4135.432031693412"
      ]
     },
     "execution_count": 5,
     "metadata": {},
     "output_type": "execute_result"
    }
   ],
   "source": [
    "#avg_vol = contract.loc['20190621':].volume.rolling(time_int).sum().mean()\n",
    "avg_vol = contract.volume.rolling(time_int).sum().mean()\n",
    "avg_vol"
   ]
  },
  {
   "cell_type": "code",
   "execution_count": 6,
   "metadata": {},
   "outputs": [
    {
     "data": {
      "text/html": [
       "<div>\n",
       "<style scoped>\n",
       "    .dataframe tbody tr th:only-of-type {\n",
       "        vertical-align: middle;\n",
       "    }\n",
       "\n",
       "    .dataframe tbody tr th {\n",
       "        vertical-align: top;\n",
       "    }\n",
       "\n",
       "    .dataframe thead th {\n",
       "        text-align: right;\n",
       "    }\n",
       "</style>\n",
       "<table border=\"1\" class=\"dataframe\">\n",
       "  <thead>\n",
       "    <tr style=\"text-align: right;\">\n",
       "      <th></th>\n",
       "      <th>date</th>\n",
       "      <th>open</th>\n",
       "      <th>high</th>\n",
       "      <th>low</th>\n",
       "      <th>close</th>\n",
       "      <th>barCount</th>\n",
       "      <th>volume</th>\n",
       "      <th>atr</th>\n",
       "    </tr>\n",
       "    <tr>\n",
       "      <th>label</th>\n",
       "      <th></th>\n",
       "      <th></th>\n",
       "      <th></th>\n",
       "      <th></th>\n",
       "      <th></th>\n",
       "      <th></th>\n",
       "      <th></th>\n",
       "      <th></th>\n",
       "    </tr>\n",
       "  </thead>\n",
       "  <tbody>\n",
       "    <tr>\n",
       "      <td>0</td>\n",
       "      <td>2018-01-02 00:35:00</td>\n",
       "      <td>1305.3</td>\n",
       "      <td>1309.7</td>\n",
       "      <td>1304.6</td>\n",
       "      <td>1308.8</td>\n",
       "      <td>1554</td>\n",
       "      <td>4051</td>\n",
       "      <td>5.100000</td>\n",
       "    </tr>\n",
       "    <tr>\n",
       "      <td>1</td>\n",
       "      <td>2018-01-02 01:38:00</td>\n",
       "      <td>1308.9</td>\n",
       "      <td>1309.3</td>\n",
       "      <td>1307.3</td>\n",
       "      <td>1308.1</td>\n",
       "      <td>1625</td>\n",
       "      <td>4167</td>\n",
       "      <td>3.541389</td>\n",
       "    </tr>\n",
       "    <tr>\n",
       "      <td>2</td>\n",
       "      <td>2018-01-02 02:02:00</td>\n",
       "      <td>1308.1</td>\n",
       "      <td>1309.3</td>\n",
       "      <td>1306.4</td>\n",
       "      <td>1306.5</td>\n",
       "      <td>1779</td>\n",
       "      <td>4053</td>\n",
       "      <td>3.325213</td>\n",
       "    </tr>\n",
       "    <tr>\n",
       "      <td>3</td>\n",
       "      <td>2018-01-02 02:41:00</td>\n",
       "      <td>1306.5</td>\n",
       "      <td>1309.0</td>\n",
       "      <td>1306.2</td>\n",
       "      <td>1308.9</td>\n",
       "      <td>1893</td>\n",
       "      <td>4449</td>\n",
       "      <td>3.191713</td>\n",
       "    </tr>\n",
       "    <tr>\n",
       "      <td>4</td>\n",
       "      <td>2018-01-02 03:45:00</td>\n",
       "      <td>1308.9</td>\n",
       "      <td>1309.0</td>\n",
       "      <td>1307.8</td>\n",
       "      <td>1308.1</td>\n",
       "      <td>1697</td>\n",
       "      <td>4238</td>\n",
       "      <td>2.784470</td>\n",
       "    </tr>\n",
       "    <tr>\n",
       "      <td>...</td>\n",
       "      <td>...</td>\n",
       "      <td>...</td>\n",
       "      <td>...</td>\n",
       "      <td>...</td>\n",
       "      <td>...</td>\n",
       "      <td>...</td>\n",
       "      <td>...</td>\n",
       "      <td>...</td>\n",
       "    </tr>\n",
       "    <tr>\n",
       "      <td>14345</td>\n",
       "      <td>2018-12-31 19:10:00</td>\n",
       "      <td>1283.5</td>\n",
       "      <td>1284.0</td>\n",
       "      <td>1282.6</td>\n",
       "      <td>1283.8</td>\n",
       "      <td>1800</td>\n",
       "      <td>4240</td>\n",
       "      <td>1.893279</td>\n",
       "    </tr>\n",
       "    <tr>\n",
       "      <td>14346</td>\n",
       "      <td>2018-12-31 19:28:00</td>\n",
       "      <td>1283.9</td>\n",
       "      <td>1284.3</td>\n",
       "      <td>1281.9</td>\n",
       "      <td>1282.1</td>\n",
       "      <td>1148</td>\n",
       "      <td>2994</td>\n",
       "      <td>1.898878</td>\n",
       "    </tr>\n",
       "    <tr>\n",
       "      <td>14347</td>\n",
       "      <td>2018-12-31 20:29:00</td>\n",
       "      <td>1282.0</td>\n",
       "      <td>1283.3</td>\n",
       "      <td>1280.2</td>\n",
       "      <td>1283.3</td>\n",
       "      <td>2281</td>\n",
       "      <td>6048</td>\n",
       "      <td>1.912150</td>\n",
       "    </tr>\n",
       "    <tr>\n",
       "      <td>14348</td>\n",
       "      <td>2018-12-31 22:19:00</td>\n",
       "      <td>1283.3</td>\n",
       "      <td>1285.0</td>\n",
       "      <td>1283.2</td>\n",
       "      <td>1284.5</td>\n",
       "      <td>1765</td>\n",
       "      <td>4179</td>\n",
       "      <td>1.910911</td>\n",
       "    </tr>\n",
       "    <tr>\n",
       "      <td>14349</td>\n",
       "      <td>2018-12-31 22:59:00</td>\n",
       "      <td>1284.5</td>\n",
       "      <td>1285.0</td>\n",
       "      <td>1284.2</td>\n",
       "      <td>1284.7</td>\n",
       "      <td>313</td>\n",
       "      <td>532</td>\n",
       "      <td>1.898636</td>\n",
       "    </tr>\n",
       "  </tbody>\n",
       "</table>\n",
       "<p>14350 rows × 8 columns</p>\n",
       "</div>"
      ],
      "text/plain": [
       "                     date    open    high     low   close  barCount  volume  \\\n",
       "label                                                                         \n",
       "0     2018-01-02 00:35:00  1305.3  1309.7  1304.6  1308.8      1554    4051   \n",
       "1     2018-01-02 01:38:00  1308.9  1309.3  1307.3  1308.1      1625    4167   \n",
       "2     2018-01-02 02:02:00  1308.1  1309.3  1306.4  1306.5      1779    4053   \n",
       "3     2018-01-02 02:41:00  1306.5  1309.0  1306.2  1308.9      1893    4449   \n",
       "4     2018-01-02 03:45:00  1308.9  1309.0  1307.8  1308.1      1697    4238   \n",
       "...                   ...     ...     ...     ...     ...       ...     ...   \n",
       "14345 2018-12-31 19:10:00  1283.5  1284.0  1282.6  1283.8      1800    4240   \n",
       "14346 2018-12-31 19:28:00  1283.9  1284.3  1281.9  1282.1      1148    2994   \n",
       "14347 2018-12-31 20:29:00  1282.0  1283.3  1280.2  1283.3      2281    6048   \n",
       "14348 2018-12-31 22:19:00  1283.3  1285.0  1283.2  1284.5      1765    4179   \n",
       "14349 2018-12-31 22:59:00  1284.5  1285.0  1284.2  1284.7       313     532   \n",
       "\n",
       "            atr  \n",
       "label            \n",
       "0      5.100000  \n",
       "1      3.541389  \n",
       "2      3.325213  \n",
       "3      3.191713  \n",
       "4      2.784470  \n",
       "...         ...  \n",
       "14345  1.893279  \n",
       "14346  1.898878  \n",
       "14347  1.912150  \n",
       "14348  1.910911  \n",
       "14349  1.898636  \n",
       "\n",
       "[14350 rows x 8 columns]"
      ]
     },
     "execution_count": 6,
     "metadata": {},
     "output_type": "execute_result"
    }
   ],
   "source": [
    "vol_candles = group_by_volume(contract, avg_vol)\n",
    "\"\"\"\n",
    "vol_candles = contract.resample('30min').agg({'open': 'first',\n",
    "                                           'high': 'max',\n",
    "                                           'low': 'min',\n",
    "                                           'close': 'last',\n",
    "                                           'volume': 'sum',\n",
    "                                           'barCount': 'sum'}).reset_index().dropna()\n",
    "\"\"\"\n",
    "vol_candles['atr'] = get_ATR(vol_candles, atr_periods)\n",
    "vol_candles"
   ]
  },
  {
   "cell_type": "code",
   "execution_count": 7,
   "metadata": {},
   "outputs": [
    {
     "data": {
      "image/png": "[encoded data removed]",
      "text/plain": [
       "<Figure size 1440x720 with 1 Axes>"
      ]
     },
     "metadata": {
      "needs_background": "light"
     },
     "output_type": "display_data"
    }
   ],
   "source": [
    "chart = vol_candles.set_index('date')\n",
    "chart.atr.plot(figsize=(20,10), grid=True);"
   ]
  },
  {
   "cell_type": "code",
   "execution_count": 8,
   "metadata": {},
   "outputs": [
    {
     "data": {
      "text/plain": [
       "(1.597702598920708, 1.5679783254444102)"
      ]
     },
     "execution_count": 8,
     "metadata": {},
     "output_type": "execute_result"
    }
   ],
   "source": [
    "vol_candles.atr.mean(), vol_candles.atr.median()"
   ]
  },
  {
   "cell_type": "code",
   "execution_count": 9,
   "metadata": {},
   "outputs": [],
   "source": [
    "#vol_candles['atr'] = 20"
   ]
  },
  {
   "cell_type": "code",
   "execution_count": 10,
   "metadata": {},
   "outputs": [],
   "source": [
    "data = vol_candles.copy()\n",
    "data['ema_fast'] = data.close.ewm(span=ema_fast).mean()\n",
    "data['ema_slow'] = data.close.ewm(span=ema_slow).mean()\n",
    "#data['min'] = data.close.rolling(periods).min()\n",
    "#data['max'] = data.close.rolling(periods).max()\n",
    "rows_to_drop = max(*periods, ema_slow)\n",
    "#rows_to_drop = max(periods, ema_fast)\n",
    "data = data.iloc[rows_to_drop:]\n",
    "data.reset_index(drop=True, inplace=True)"
   ]
  },
  {
   "cell_type": "code",
   "execution_count": 11,
   "metadata": {},
   "outputs": [],
   "source": [
    "#data['buy_signal'] = (data.close >= data['max']) * 1\n",
    "#data['sell_signal'] = (data.close <= data['min']) * -1\n",
    "#data['signal'] = data.buy_signal + data.sell_signal\n",
    "#del data['buy_signal']\n",
    "#del data['sell_signal']\n",
    "data['signal'] = get_signals(data.close, periods)\n",
    "data['filter'] = np.sign(data['ema_fast'] - data['ema_slow'])\n",
    "data['filtered_signal'] = data['signal'] * ((data['signal'] * data['filter']) == 1)\n",
    "#data['filtered_signal'] = data['signal']"
   ]
  },
  {
   "cell_type": "code",
   "execution_count": 12,
   "metadata": {},
   "outputs": [],
   "source": [
    "data.rename(columns={'open': 'price'}, inplace=True)"
   ]
  },
  {
   "cell_type": "code",
   "execution_count": 13,
   "metadata": {
    "scrolled": false
   },
   "outputs": [],
   "source": [
    "b = c_backtester(data, sl_atr=2, trailing_sl=True, active_close=True, block_stop=False, take_profit=0)\n",
    "#results_c = perf(b, multiplier, bankroll) "
   ]
  },
  {
   "cell_type": "code",
   "execution_count": 14,
   "metadata": {},
   "outputs": [
    {
     "name": "stdout",
     "output_type": "stream",
     "text": [
      "Annual return                  0.090275\n",
      "Cumulative returns            0.0917718\n",
      "Annual volatility             0.0662485\n",
      "Sharpe ratio                    1.33775\n",
      "Calmar ratio                    3.18847\n",
      "Stability                      0.901703\n",
      "Max drawdown                  -0.028313\n",
      "Omega ratio                     1.26448\n",
      "Sortino ratio                   2.43609\n",
      "Skew                            1.04326\n",
      "Kurtosis                        1.63649\n",
      "Tail ratio                      1.60912\n",
      "Daily value at risk         -0.00799484\n",
      "Win percent                    0.397143\n",
      "Average gain                    4.49928\n",
      "Average loss                   -2.42275\n",
      "Avg gain/loss ratio              1.8571\n",
      "Position EV                    0.326286\n",
      "Positions per day               1.36719\n",
      "Days per position              0.731429\n",
      "Actual avg. duration    0 days 10:37:00\n",
      "Days                                256\n",
      "Positions                           350\n",
      "Trades                              700\n",
      "Monthly EV                      9.36797\n",
      "Annual EV                       112.416\n"
     ]
    },
    {
     "ename": "AttributeError",
     "evalue": "'DataFrame' object has no attribute 'path'",
     "output_type": "error",
     "traceback": [
      "\u001b[0;31m---------------------------------------------------------------------------\u001b[0m",
      "\u001b[0;31mAttributeError\u001b[0m                            Traceback (most recent call last)",
      "\u001b[0;32m<ipython-input-14-1392452f3058>\u001b[0m in \u001b[0;36m<module>\u001b[0;34m\u001b[0m\n\u001b[0;32m----> 1\u001b[0;31m \u001b[0mresults\u001b[0m \u001b[0;34m=\u001b[0m \u001b[0mperf\u001b[0m\u001b[0;34m(\u001b[0m\u001b[0mb\u001b[0m\u001b[0;34m)\u001b[0m\u001b[0;34m\u001b[0m\u001b[0;34m\u001b[0m\u001b[0m\n\u001b[0m",
      "\u001b[0;32m~/ib_tools/notebooks/utils.py\u001b[0m in \u001b[0;36mperf\u001b[0;34m(df, multiplier, bankroll, output, compound, price_column_name, slippage)\u001b[0m\n\u001b[1;32m    307\u001b[0m     \u001b[0;32mif\u001b[0m \u001b[0moutput\u001b[0m\u001b[0;34m:\u001b[0m\u001b[0;34m\u001b[0m\u001b[0;34m\u001b[0m\u001b[0m\n\u001b[1;32m    308\u001b[0m         \u001b[0mprint\u001b[0m\u001b[0;34m(\u001b[0m\u001b[0mstats\u001b[0m\u001b[0;34m.\u001b[0m\u001b[0mto_string\u001b[0m\u001b[0;34m(\u001b[0m\u001b[0;34m)\u001b[0m\u001b[0;34m)\u001b[0m\u001b[0;34m\u001b[0m\u001b[0;34m\u001b[0m\u001b[0m\n\u001b[0;32m--> 309\u001b[0;31m         \u001b[0mdaily\u001b[0m\u001b[0;34m.\u001b[0m\u001b[0mpath\u001b[0m\u001b[0;34m.\u001b[0m\u001b[0mplot\u001b[0m\u001b[0;34m(\u001b[0m\u001b[0mfigsize\u001b[0m\u001b[0;34m=\u001b[0m\u001b[0;34m(\u001b[0m\u001b[0;36m20\u001b[0m\u001b[0;34m,\u001b[0m \u001b[0;36m10\u001b[0m\u001b[0;34m)\u001b[0m\u001b[0;34m,\u001b[0m \u001b[0mgrid\u001b[0m\u001b[0;34m=\u001b[0m\u001b[0;32mTrue\u001b[0m\u001b[0;34m)\u001b[0m\u001b[0;34m\u001b[0m\u001b[0;34m\u001b[0m\u001b[0m\n\u001b[0m\u001b[1;32m    310\u001b[0m         \u001b[0;31m# daily.balance.plot(figsize=(20, 10), grid=True)\u001b[0m\u001b[0;34m\u001b[0m\u001b[0;34m\u001b[0m\u001b[0;34m\u001b[0m\u001b[0m\n\u001b[1;32m    311\u001b[0m     Results = namedtuple(\n",
      "\u001b[0;32m~/.virtualenvs/ib/lib/python3.7/site-packages/pandas/core/generic.py\u001b[0m in \u001b[0;36m__getattr__\u001b[0;34m(self, name)\u001b[0m\n\u001b[1;32m   5177\u001b[0m             \u001b[0;32mif\u001b[0m \u001b[0mself\u001b[0m\u001b[0;34m.\u001b[0m\u001b[0m_info_axis\u001b[0m\u001b[0;34m.\u001b[0m\u001b[0m_can_hold_identifiers_and_holds_name\u001b[0m\u001b[0;34m(\u001b[0m\u001b[0mname\u001b[0m\u001b[0;34m)\u001b[0m\u001b[0;34m:\u001b[0m\u001b[0;34m\u001b[0m\u001b[0;34m\u001b[0m\u001b[0m\n\u001b[1;32m   5178\u001b[0m                 \u001b[0;32mreturn\u001b[0m \u001b[0mself\u001b[0m\u001b[0;34m[\u001b[0m\u001b[0mname\u001b[0m\u001b[0;34m]\u001b[0m\u001b[0;34m\u001b[0m\u001b[0;34m\u001b[0m\u001b[0m\n\u001b[0;32m-> 5179\u001b[0;31m             \u001b[0;32mreturn\u001b[0m \u001b[0mobject\u001b[0m\u001b[0;34m.\u001b[0m\u001b[0m__getattribute__\u001b[0m\u001b[0;34m(\u001b[0m\u001b[0mself\u001b[0m\u001b[0;34m,\u001b[0m \u001b[0mname\u001b[0m\u001b[0;34m)\u001b[0m\u001b[0;34m\u001b[0m\u001b[0;34m\u001b[0m\u001b[0m\n\u001b[0m\u001b[1;32m   5180\u001b[0m \u001b[0;34m\u001b[0m\u001b[0m\n\u001b[1;32m   5181\u001b[0m     \u001b[0;32mdef\u001b[0m \u001b[0m__setattr__\u001b[0m\u001b[0;34m(\u001b[0m\u001b[0mself\u001b[0m\u001b[0;34m,\u001b[0m \u001b[0mname\u001b[0m\u001b[0;34m,\u001b[0m \u001b[0mvalue\u001b[0m\u001b[0;34m)\u001b[0m\u001b[0;34m:\u001b[0m\u001b[0;34m\u001b[0m\u001b[0;34m\u001b[0m\u001b[0m\n",
      "\u001b[0;31mAttributeError\u001b[0m: 'DataFrame' object has no attribute 'path'"
     ]
    }
   ],
   "source": [
    "results = perf(b) "
   ]
  },
  {
   "cell_type": "code",
   "execution_count": null,
   "metadata": {},
   "outputs": [],
   "source": [
    "prices = data.set_index('date').close.resample('B').last()\n",
    "returns = prices.pct_change().fillna(0)\n",
    "vols_returns = returns.ewm(span=5).std()\n",
    "vols_prices = vols_returns * prices"
   ]
  },
  {
   "cell_type": "code",
   "execution_count": null,
   "metadata": {},
   "outputs": [],
   "source": [
    "import matplotlib.pyplot as plt\n",
    "fig = plt.figure(figsize=(20, 16))\n",
    "ax = fig.add_subplot(111)\n",
    "ax.plot(prices)\n",
    "ax1 = ax.twinx()\n",
    "ax1.plot(results.daily.path, color='red')\n",
    "ax.grid()\n",
    "plt.show();"
   ]
  },
  {
   "cell_type": "code",
   "execution_count": null,
   "metadata": {},
   "outputs": [],
   "source": [
    "monthly = pd.DataFrame({'open': results.daily.balance.resample('M').first(),\n",
    "                        'close': results.daily.balance.resample('M').last()})\n",
    "monthly['c'] = monthly['close'].shift().fillna(monthly['open'].iloc[0])\n",
    "monthly['pnl'] = monthly['close'] - monthly['c']\n",
    "del monthly['open']\n",
    "monthly.columns = ['close', 'open', 'pnl']\n",
    "monthly"
   ]
  },
  {
   "cell_type": "code",
   "execution_count": null,
   "metadata": {},
   "outputs": [],
   "source": [
    "a = chart_price(b['price'], b['position'])"
   ]
  },
  {
   "cell_type": "code",
   "execution_count": null,
   "metadata": {},
   "outputs": [],
   "source": [
    "results.positions.sort_values('pnl')"
   ]
  },
  {
   "cell_type": "code",
   "execution_count": null,
   "metadata": {},
   "outputs": [],
   "source": [
    "#results.daily.to_pickle('GC_30_2019.pickle')"
   ]
  },
  {
   "cell_type": "code",
   "execution_count": null,
   "metadata": {},
   "outputs": [],
   "source": [
    "results.positions[results.positions['reason'] != 'stop-out']"
   ]
  },
  {
   "cell_type": "code",
   "execution_count": null,
   "metadata": {},
   "outputs": [],
   "source": []
  }
 ],
 "metadata": {
  "kernelspec": {
   "display_name": "Python 3",
   "language": "python",
   "name": "python3"
  },
  "language_info": {
   "codemirror_mode": {
    "name": "ipython",
    "version": 3
   },
   "file_extension": ".py",
   "mimetype": "text/x-python",
   "name": "python",
   "nbconvert_exporter": "python",
   "pygments_lexer": "ipython3",
   "version": "3.7.3"
  }
 },
 "nbformat": 4,
 "nbformat_minor": 2
}
